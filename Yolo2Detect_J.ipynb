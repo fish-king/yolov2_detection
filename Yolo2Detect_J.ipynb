{
 "cells": [
  {
   "cell_type": "code",
   "execution_count": 1,
   "metadata": {},
   "outputs": [
    {
     "name": "stdout",
     "output_type": "stream",
     "text": [
      "WARNING:tensorflow:No training configuration found in save file: the model was *not* compiled. Compile it manually.\n"
     ]
    }
   ],
   "source": [
    "#详细注释在Yolo2_learning.ipynb中",
    "import argparse\n",
    "import os\n",
    "import matplotlib.pyplot as plt\n",
    "from matplotlib.pyplot import imshow\n",
    "import scipy.io\n",
    "import scipy.misc\n",
    "import numpy as np\n",
    "import pandas as pd\n",
    "import PIL\n",
    "import cv2\n",
    "import tensorflow as tf\n",
    "from tensorflow.keras import backend as K\n",
    "from tensorflow.keras.layers import Input, Lambda, Conv2D\n",
    "from tensorflow.keras.models import load_model, Model\n",
    "from yad2k.models.keras_yolo import yolo_head, yolo_boxes_to_corners, preprocess_true_boxes, yolo_loss, yolo_body,yolo_eval\n",
    "import yolo_utils\n",
    "import time\n",
    "\n",
    "\n",
    "yolo_model = load_model(\"model_data/yolo.h5\")\n",
    "class_names = yolo_utils.read_classes(\"model_data/coco_classes.txt\")\n",
    "anchors = yolo_utils.read_anchors(\"model_data/yolo_anchors.txt\")\n",
    "num_classes = len(class_names)"
   ]
  },
  {
   "cell_type": "code",
   "execution_count": 3,
   "metadata": {},
   "outputs": [],
   "source": [
    "cam = cv2.VideoCapture(0 + cv2.CAP_DSHOW)\n",
    "if not cam.read()[0]:\n",
    "    cam = cv2.VideoCapture(1 + cv2.CAP_DSHOW)\n",
    "\n",
    "cam.set(cv2.CAP_PROP_FRAME_WIDTH, 640)\n",
    "cam.set(cv2.CAP_PROP_FRAME_HEIGHT, 480)\n",
    "\n",
    "image_shape = (480., 640.)\n",
    "model_image_size = (608, 608)\n",
    "while(True):\n",
    "    ret, frame = cam.read()\n",
    "    image = PIL.Image.fromarray(cv2.cvtColor(frame,cv2.COLOR_BGR2RGB))\n",
    "    resized_image = image.resize(tuple(reversed(model_image_size)), PIL.Image.BICUBIC)\n",
    "    image_data = np.array(resized_image, dtype='float32')\n",
    "    image_data /= 255.\n",
    "    image_data = np.expand_dims(image_data, 0)  # Add batch dimension.\n",
    "    yolo_outputs = yolo_model(image_data)\n",
    "    yolo_outputs = yolo_head(yolo_outputs, anchors, num_classes)\n",
    "    box_confidence, box_xy, box_wh, box_class_probs = yolo_outputs\n",
    "    boxes = yolo_boxes_to_corners(box_xy, box_wh)\n",
    "    box_scores = box_confidence * box_class_probs\n",
    "    box_classes = K.argmax(box_scores, axis=-1)\n",
    "    box_class_scores = K.max(box_scores, axis=-1)\n",
    "    prediction_mask = box_class_scores >= 0.6\n",
    "    boxes = tf.boolean_mask(boxes, prediction_mask)\n",
    "    scores = tf.boolean_mask(box_class_scores, prediction_mask)\n",
    "    classes = tf.boolean_mask(box_classes, prediction_mask)\n",
    "    height = image_shape[0]\n",
    "    width = image_shape[1]\n",
    "    image_dims = K.stack([height, width, height, width])\n",
    "    image_dims = K.reshape(image_dims, [1, 4])\n",
    "    boxes = boxes * image_dims\n",
    "    nms_index = tf.image.non_max_suppression(boxes, scores, 10, iou_threshold=0.5)\n",
    "    #非极大抑制算法进一步过滤box\n",
    "    boxes = K.gather(boxes, nms_index)\n",
    "    scores = K.gather(scores, nms_index)\n",
    "    classes = K.gather(classes, nms_index)\n",
    "    colors = yolo_utils.generate_colors(class_names)\n",
    "\n",
    "    yolo_utils.draw_boxes(image, scores, boxes, classes, class_names, colors)\n",
    "\n",
    "    image = cv2.cvtColor(np.asarray(image),cv2.COLOR_RGB2BGR)\n",
    "    cv2.imshow('Cap',image)\n",
    "    key = cv2.waitKey(1)\n",
    "    if key == ord(\"a\"):\n",
    "        break\n",
    "cam.release()\n",
    "cv2.destroyAllWindows()"
   ]
  },
  {
   "cell_type": "code",
   "execution_count": null,
   "metadata": {},
   "outputs": [],
   "source": []
  }
 ],
 "metadata": {
  "kernelspec": {
   "display_name": "tensorflow",
   "language": "python",
   "name": "tensorflow"
  },
  "language_info": {
   "codemirror_mode": {
    "name": "ipython",
    "version": 3
   },
   "file_extension": ".py",
   "mimetype": "text/x-python",
   "name": "python",
   "nbconvert_exporter": "python",
   "pygments_lexer": "ipython3",
   "version": "3.7.5"
  },
  "toc": {
   "base_numbering": 1,
   "nav_menu": {},
   "number_sections": true,
   "sideBar": true,
   "skip_h1_title": false,
   "title_cell": "Table of Contents",
   "title_sidebar": "Contents",
   "toc_cell": false,
   "toc_position": {},
   "toc_section_display": true,
   "toc_window_display": false
  }
 },
 "nbformat": 4,
 "nbformat_minor": 2
}
